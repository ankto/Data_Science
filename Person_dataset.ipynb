{
 "cells": [
  {
   "cell_type": "code",
   "execution_count": 5,
   "metadata": {},
   "outputs": [],
   "source": [
    "import matplotlib.pyplot as plt\n",
    "import os\n",
    "import numpy as np\n",
    "import torch\n",
    "import torchvision\n",
    "import torchvision.transforms as T\n",
    "import torchvision.datasets as datasets \n",
    "import torch.nn as nn\n",
    "import torch.nn.functional as F\n",
    "from tqdm import tqdm\n",
    "import pandas as pd\n",
    "import shutil\n",
    "\n",
    "plt.rcParams['figure.figsize'] = (8, 8)"
   ]
  },
  {
   "cell_type": "markdown",
   "metadata": {},
   "source": [
    "### 1. Подготовка данных для распознавания"
   ]
  },
  {
   "cell_type": "code",
   "execution_count": 6,
   "metadata": {},
   "outputs": [
    {
     "name": "stdout",
     "output_type": "stream",
     "text": [
      "1671\n",
      "902\n"
     ]
    }
   ],
   "source": [
    "# Каталог с набором данных \n",
    "data_dir = './TT_Person_dataset/'\n",
    "# Каталог с данными для обучения\n",
    "train_dir = 'trainset'\n",
    "# Каталог с данными для тестирования\n",
    "test_dir = 'testset'\n",
    "# Часть набора данных для тренировки\n",
    "train_data_portion = 0.6\n",
    "# Часть набора данных для тестирования\n",
    "test_data_portion = 0.4\n",
    "# Количество элементов данных в одном классе neg\n",
    "nb_neg_images= len(os.listdir('./TT_Person_dataset/neg/'))\n",
    "print(nb_neg_images)\n",
    "# Количество элементов данных в одном классе pos\n",
    "nb_pos_images = len(os.listdir('./TT_Person_dataset/pos/'))\n",
    "print(nb_pos_images)"
   ]
  },
  {
   "cell_type": "code",
   "execution_count": 7,
   "metadata": {},
   "outputs": [],
   "source": [
    "# Создаем функцию для каталогов train/test c папками pos/neg в каждой из них\n",
    "def create_directory(dir_name):\n",
    "    if os.path.exists(dir_name):\n",
    "        shutil.rmtree(dir_name)\n",
    "    else:\n",
    "        os.makedirs(os.path.join(data_dir, dir_name, 'pos'))\n",
    "        os.makedirs(os.path.join(data_dir, dir_name, 'neg'))"
   ]
  },
  {
   "cell_type": "code",
   "execution_count": 8,
   "metadata": {},
   "outputs": [],
   "source": [
    "# Создаем директорию\n",
    "create_directory(train_dir)\n",
    "create_directory(test_dir)"
   ]
  },
  {
   "cell_type": "code",
   "execution_count": 9,
   "metadata": {},
   "outputs": [
    {
     "name": "stdout",
     "output_type": "stream",
     "text": [
      "541\n",
      "1002\n",
      "361\n",
      "669\n"
     ]
    }
   ],
   "source": [
    "# Расчет индексов наборов данных для обучения и тестирования\n",
    "train_data_pos_idx = int(nb_pos_images * (1-test_data_portion))\n",
    "train_data_neg_idx = int(nb_neg_images * (1-test_data_portion))\n",
    "\n",
    "test_data_pos_idx = int(nb_pos_images * (1-train_data_portion))\n",
    "test_data_neg_idx = int(nb_neg_images * (1-train_data_portion))\n",
    "\n",
    "# train\n",
    "train_data_pos_idx = os.listdir('./TT_Person_dataset/pos/')[:train_data_pos_idx]\n",
    "train_data_neg_idx = os.listdir('./TT_Person_dataset/neg/')[:train_data_neg_idx]\n",
    "\n",
    "#test\n",
    "test_data_pos_idx = os.listdir('./TT_Person_dataset/pos/')[-test_data_pos_idx-1:]\n",
    "test_data_neg_idx = os.listdir('./TT_Person_dataset/neg/')[-test_data_neg_idx-1:]\n",
    "                                                           \n",
    "print(len(train_data_pos_idx))\n",
    "print(len(train_data_neg_idx))\n",
    "print(len(test_data_pos_idx))\n",
    "print(len(test_data_neg_idx))"
   ]
  },
  {
   "cell_type": "code",
   "execution_count": 10,
   "metadata": {},
   "outputs": [],
   "source": [
    "# Распределяем изображения из pos/neg в каталоги train/test в пропорции 60/40\n",
    "def copy_pos_images(data_pos_idx, source_dir, dest_dir):\n",
    "    for i in data_pos_idx:\n",
    "        shutil.copy(os.path.join(source_dir,'pos/', i), os.path.join(dest_dir, 'pos/'))\n",
    "\n",
    "def copy_neg_images(data_neg_idx, source_dir, dest_dir):\n",
    "    for i in data_neg_idx:\n",
    "        shutil.copy(os.path.join(source_dir,'neg/', i), os.path.join(dest_dir, 'neg/'))"
   ]
  },
  {
   "cell_type": "code",
   "execution_count": 11,
   "metadata": {},
   "outputs": [],
   "source": [
    "# Копирование изображений для train\n",
    "dest_train_dir = './TT_Person_dataset/trainset/'\n",
    "copy_pos_images(train_data_pos_idx, data_dir, dest_train_dir)\n",
    "copy_neg_images(train_data_neg_idx, data_dir, dest_train_dir)"
   ]
  },
  {
   "cell_type": "code",
   "execution_count": 12,
   "metadata": {},
   "outputs": [],
   "source": [
    "# Копирование изображений для test\n",
    "dest_test_dir = './TT_Person_dataset/testset/'\n",
    "copy_pos_images(test_data_pos_idx, data_dir, dest_test_dir)\n",
    "copy_neg_images(test_data_neg_idx, data_dir, dest_test_dir)"
   ]
  },
  {
   "cell_type": "markdown",
   "metadata": {},
   "source": [
    "### 2. Трансформируем наш датасет"
   ]
  },
  {
   "cell_type": "code",
   "execution_count": 13,
   "metadata": {},
   "outputs": [],
   "source": [
    "transform = T.Compose([\n",
    "    T.Resize(32),\n",
    "    #T.RandomCrop(224),\n",
    "    T.ToTensor(),\n",
    "    T.Normalize(mean = [0.485, 0.456, 0.406], std = [0.229, 0.224, 0.225]),\n",
    "])\n",
    "\n",
    "trainset_root = './TT_Person_dataset/trainset/'\n",
    "testset_root = './TT_Person_dataset/testset/'\n",
    "\n",
    "trainset = torchvision.datasets.ImageFolder(trainset_root, transform = transform)\n",
    "trainloader = torch.utils.data.DataLoader(trainset, batch_size=4, shuffle = True, num_workers=2)\n",
    "\n",
    "testset = torchvision.datasets.ImageFolder(testset_root, transform = transform)\n",
    "testloader = torch.utils.data.DataLoader(testset, batch_size=4, shuffle = False, num_workers = 2)"
   ]
  },
  {
   "cell_type": "code",
   "execution_count": 14,
   "metadata": {},
   "outputs": [
    {
     "name": "stderr",
     "output_type": "stream",
     "text": [
      "Clipping input data to the valid range for imshow with RGB data ([0..1] for floats or [0..255] for integers).\n"
     ]
    },
    {
     "name": "stdout",
     "output_type": "stream",
     "text": [
      "torch.Size([3, 32, 32])\n",
      "torch.Size([4, 3, 32, 32])\n",
      "torch.Size([4])\n"
     ]
    },
    {
     "data": {
      "image/png": "[encoded data removed]",
      "text/plain": [
       "<Figure size 576x576 with 1 Axes>"
      ]
     },
     "metadata": {
      "needs_background": "light"
     },
     "output_type": "display_data"
    }
   ],
   "source": [
    "# Размерность trainloader/testloader\n",
    "dataiter = iter(trainloader)\n",
    "images, labels = next(dataiter)\n",
    "                      \n",
    "x, y = trainset[5]\n",
    "plt.imshow(x.numpy().transpose((1, 2, 0)))\n",
    "print(x.shape)\n",
    "print(images.shape)\n",
    "print(labels.shape)"
   ]
  },
  {
   "cell_type": "markdown",
   "metadata": {},
   "source": [
    "### 3. Определение модели сверточной нейронной сети"
   ]
  },
  {
   "cell_type": "code",
   "execution_count": 30,
   "metadata": {},
   "outputs": [],
   "source": [
    "class Model(nn.Module):\n",
    "    def __init__(self):\n",
    "        super().__init__()\n",
    "        self.conv1 = nn.Conv2d(3, 16, 5)\n",
    "        self.pool = nn.MaxPool2d(2, 2)\n",
    "        self.conv2 = nn.Conv2d(16, 32, 5)\n",
    "        #self.conv3 = nn.Conv2d(32,120, 5)\n",
    "        self.global_pool = nn.MaxPool2d(23, 23)\n",
    "        \n",
    "        self.l1 = nn.Linear(32, 16)\n",
    "        self.l2 = nn.Linear(16, 8)\n",
    "        self.l3 = nn.Linear(8,2)\n",
    "        \n",
    "    def forward(self, x):\n",
    "        #print(x.shape)\n",
    "        x = F.relu(self.conv1(x))\n",
    "        #print(x.shape)\n",
    "        x = self.pool(x)\n",
    "        #print(x.shape)\n",
    "        x = F.relu(self.conv2(x))\n",
    "        #print(x.shape)\n",
    "        #x = self.pool(x)\n",
    "        #x = F.relu(self.conv3(x))\n",
    "        x = self.global_pool(x)\n",
    "        #print(x.shape)\n",
    "        x = x.view(-1, 32)\n",
    "        #print(x.shape)\n",
    "       \n",
    "        x = F.relu(self.l1(x))\n",
    "        x = F.relu(self.l2(x))\n",
    "        x = self.l3(x)\n",
    "        \n",
    "        return x"
   ]
  },
  {
   "cell_type": "code",
   "execution_count": 31,
   "metadata": {},
   "outputs": [],
   "source": [
    "class Mean(object):\n",
    "    def __init__(self):\n",
    "        self.values = []\n",
    "\n",
    "    def compute(self):\n",
    "        return sum(self.values) / len(self.values)\n",
    "\n",
    "    def update(self, value):\n",
    "        self.values.extend(np.reshape(value, [-1]))\n",
    "\n",
    "    def reset(self):\n",
    "        self.values = []\n",
    "\n",
    "    def compute_and_reset(self):\n",
    "        value = self.compute()\n",
    "        self.reset()\n",
    "\n",
    "        return value\n",
    "\n",
    "def accuracy(a, b):\n",
    "    return (a == b).float().mean()"
   ]
  },
  {
   "cell_type": "markdown",
   "metadata": {},
   "source": [
    "### 4. Реализация модели и вывод accuracy/loss"
   ]
  },
  {
   "cell_type": "code",
   "execution_count": 39,
   "metadata": {},
   "outputs": [
    {
     "name": "stderr",
     "output_type": "stream",
     "text": [
      "\n",
      "\n",
      "  0%|                                                   | 0/20 [00:00<?, ?it/s]"
     ]
    },
    {
     "ename": "RuntimeError",
     "evalue": "bool value of Tensor with more than one value is ambiguous",
     "output_type": "error",
     "traceback": [
      "\u001b[1;31m---------------------------------------------------------------------------\u001b[0m",
      "\u001b[1;31mRuntimeError\u001b[0m                              Traceback (most recent call last)",
      "\u001b[1;32m<ipython-input-39-9b3ec68d466b>\u001b[0m in \u001b[0;36m<module>\u001b[1;34m\u001b[0m\n\u001b[0;32m     27\u001b[0m     \u001b[1;31m#model.train()\u001b[0m\u001b[1;33m\u001b[0m\u001b[1;33m\u001b[0m\u001b[1;33m\u001b[0m\u001b[0m\n\u001b[0;32m     28\u001b[0m     \u001b[1;32mfor\u001b[0m \u001b[0mimages\u001b[0m\u001b[1;33m,\u001b[0m \u001b[0mtargets\u001b[0m \u001b[1;32min\u001b[0m \u001b[0mtrainloader\u001b[0m\u001b[1;33m:\u001b[0m\u001b[1;33m\u001b[0m\u001b[1;33m\u001b[0m\u001b[0m\n\u001b[1;32m---> 29\u001b[1;33m         \u001b[0mlogits\u001b[0m \u001b[1;33m=\u001b[0m \u001b[0mmodel\u001b[0m\u001b[1;33m(\u001b[0m\u001b[0mimages\u001b[0m\u001b[1;33m)\u001b[0m\u001b[1;33m\u001b[0m\u001b[1;33m\u001b[0m\u001b[0m\n\u001b[0m\u001b[0;32m     30\u001b[0m \u001b[1;33m\u001b[0m\u001b[0m\n\u001b[0;32m     31\u001b[0m         \u001b[0mtrain_loss\u001b[0m \u001b[1;33m=\u001b[0m \u001b[0mF\u001b[0m\u001b[1;33m.\u001b[0m\u001b[0mcross_entropy\u001b[0m\u001b[1;33m(\u001b[0m\u001b[0minput\u001b[0m \u001b[1;33m=\u001b[0m \u001b[0mlogits\u001b[0m\u001b[1;33m,\u001b[0m \u001b[0mtarget\u001b[0m \u001b[1;33m=\u001b[0m \u001b[0mtargets\u001b[0m\u001b[1;33m)\u001b[0m \u001b[1;31m# Функция ошибки\u001b[0m\u001b[1;33m\u001b[0m\u001b[1;33m\u001b[0m\u001b[0m\n",
      "\u001b[1;32mc:\\python37\\lib\\site-packages\\torchvision\\models\\resnet.py\u001b[0m in \u001b[0;36mresnet34\u001b[1;34m(pretrained, **kwargs)\u001b[0m\n\u001b[0;32m    184\u001b[0m     \"\"\"\n\u001b[0;32m    185\u001b[0m     \u001b[0mmodel\u001b[0m \u001b[1;33m=\u001b[0m \u001b[0mResNet\u001b[0m\u001b[1;33m(\u001b[0m\u001b[0mBasicBlock\u001b[0m\u001b[1;33m,\u001b[0m \u001b[1;33m[\u001b[0m\u001b[1;36m3\u001b[0m\u001b[1;33m,\u001b[0m \u001b[1;36m4\u001b[0m\u001b[1;33m,\u001b[0m \u001b[1;36m6\u001b[0m\u001b[1;33m,\u001b[0m \u001b[1;36m3\u001b[0m\u001b[1;33m]\u001b[0m\u001b[1;33m,\u001b[0m \u001b[1;33m**\u001b[0m\u001b[0mkwargs\u001b[0m\u001b[1;33m)\u001b[0m\u001b[1;33m\u001b[0m\u001b[1;33m\u001b[0m\u001b[0m\n\u001b[1;32m--> 186\u001b[1;33m     \u001b[1;32mif\u001b[0m \u001b[0mpretrained\u001b[0m\u001b[1;33m:\u001b[0m\u001b[1;33m\u001b[0m\u001b[1;33m\u001b[0m\u001b[0m\n\u001b[0m\u001b[0;32m    187\u001b[0m         \u001b[0mmodel\u001b[0m\u001b[1;33m.\u001b[0m\u001b[0mload_state_dict\u001b[0m\u001b[1;33m(\u001b[0m\u001b[0mmodel_zoo\u001b[0m\u001b[1;33m.\u001b[0m\u001b[0mload_url\u001b[0m\u001b[1;33m(\u001b[0m\u001b[0mmodel_urls\u001b[0m\u001b[1;33m[\u001b[0m\u001b[1;34m'resnet34'\u001b[0m\u001b[1;33m]\u001b[0m\u001b[1;33m)\u001b[0m\u001b[1;33m)\u001b[0m\u001b[1;33m\u001b[0m\u001b[1;33m\u001b[0m\u001b[0m\n\u001b[0;32m    188\u001b[0m     \u001b[1;32mreturn\u001b[0m \u001b[0mmodel\u001b[0m\u001b[1;33m\u001b[0m\u001b[1;33m\u001b[0m\u001b[0m\n",
      "\u001b[1;31mRuntimeError\u001b[0m: bool value of Tensor with more than one value is ambiguous"
     ]
    }
   ],
   "source": [
    "# Define Model\n",
    "model = Model()\n",
    "\n",
    "#model = torchvision.models.resnet34\n",
    "#model.fc = nn.Linear(512, 2)\n",
    "\n",
    "lr = 1e-3  # learning rate\n",
    "\n",
    "opt = torch.optim.SGD(model.parameters(), lr, momentum=0.9)\n",
    "#opt = torch.optim.Adam(model.parameters(), lr)\n",
    "stats = {\n",
    "    'train_loss': [],\n",
    "    'test_loss': [],\n",
    "    'train_acc': [],\n",
    "    'test_acc': []\n",
    "}\n",
    "\n",
    "# mean_loss = Mean()\n",
    "# mean_acc = Mean()\n",
    "\n",
    "for epoch in tqdm(range(20)):\n",
    "    train_accs = []\n",
    "    train_losses = []\n",
    "    test_accs = []\n",
    "    test_losses = []\n",
    "    \n",
    "    #model.train()\n",
    "    for images, targets in trainloader: \n",
    "        logits = model(images)\n",
    "        \n",
    "        train_loss = F.cross_entropy(input = logits, target = targets) # Функция ошибки\n",
    "        train_acc = accuracy(targets, logits.argmax(1))   \n",
    "        \n",
    "        train_losses.append(train_loss.data.numpy())\n",
    "        train_accs.append(train_acc.data.numpy())\n",
    "\n",
    "        opt.zero_grad()\n",
    "        train_loss.backward()\n",
    "        opt.step()\n",
    "\n",
    "    train_loss = np.mean(train_losses) \n",
    "    train_acc = np.mean(train_accs)\n",
    "    \n",
    "    #model.test()\n",
    "    for images, targets in testloader: \n",
    "        logits = model(images)\n",
    "        \n",
    "        test_loss = F.cross_entropy(input = logits, target = targets)\n",
    "        #test_loss = F.binary_cross_entropy(input = logits, target = targets)\n",
    "        test_acc = accuracy(targets, logits.argmax(1))   \n",
    "        \n",
    "        test_losses.append(test_loss.data.numpy())\n",
    "        test_accs.append(test_acc.data.numpy())\n",
    "\n",
    "    test_loss = np.mean(test_losses) \n",
    "    test_acc = np.mean(test_accs)\n",
    "\n",
    "    \n",
    "    print('epoch {}, train loss {:.2f},train acc {:.2f}'.format(epoch, train_loss,train_acc))\n",
    "    stats['train_loss'].append(train_loss)\n",
    "    stats['train_acc'].append(train_acc)\n",
    "    \n",
    "    print('epoch {}, test loss {:.2f},test acc {:.2f}'.format(epoch, test_loss,test_acc))\n",
    "    stats['test_loss'].append(test_loss)\n",
    "    stats['test_acc'].append(test_acc)\n",
    "    \n",
    "    plt.plot(stats['train_loss'], label = 'train')\n",
    "    plt.plot(stats['test_loss'], label = 'test')\n",
    "    plt.title('loss')\n",
    "    plt.legend()\n",
    "    plt.show()\n",
    "    \n",
    "    plt.plot(stats['train_acc'], label = 'train')\n",
    "    plt.plot(stats['test_acc'], label = 'test')\n",
    "    plt.title('acc')\n",
    "    plt.legend()\n",
    "    plt.show()"
   ]
  },
  {
   "cell_type": "code",
   "execution_count": null,
   "metadata": {},
   "outputs": [],
   "source": []
  }
 ],
 "metadata": {
  "kernelspec": {
   "display_name": "Python 3",
   "language": "python",
   "name": "python3"
  },
  "language_info": {
   "codemirror_mode": {
    "name": "ipython",
    "version": 3
   },
   "file_extension": ".py",
   "mimetype": "text/x-python",
   "name": "python",
   "nbconvert_exporter": "python",
   "pygments_lexer": "ipython3",
   "version": "3.7.3"
  }
 },
 "nbformat": 4,
 "nbformat_minor": 1
}
